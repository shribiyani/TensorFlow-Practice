{
  "nbformat": 4,
  "nbformat_minor": 0,
  "metadata": {
    "colab": {
      "name": "Tensorflow 1.ipynb",
      "provenance": [],
      "authorship_tag": "ABX9TyPRSJWahZPjkr1q4DS3dYy1",
      "include_colab_link": true
    },
    "kernelspec": {
      "name": "python3",
      "display_name": "Python 3"
    }
  },
  "cells": [
    {
      "cell_type": "markdown",
      "metadata": {
        "id": "view-in-github",
        "colab_type": "text"
      },
      "source": [
        "<a href=\"https://colab.research.google.com/github/shribiyani/TensorFlow-Practice/blob/main/Tensorflow_1.ipynb\" target=\"_parent\"><img src=\"https://colab.research.google.com/assets/colab-badge.svg\" alt=\"Open In Colab\"/></a>"
      ]
    },
    {
      "cell_type": "code",
      "metadata": {
        "id": "2lnpqZYj69wa"
      },
      "source": [
        "import tensorflow as tf"
      ],
      "execution_count": 7,
      "outputs": []
    },
    {
      "cell_type": "code",
      "metadata": {
        "colab": {
          "base_uri": "https://localhost:8080/"
        },
        "id": "UnqFRv8S7p20",
        "outputId": "8da43eda-f688-4129-db86-b5f9c2a516c8"
      },
      "source": [
        "# Load MNIST dataset\r\n",
        "mnist = tf.keras.datasets.mnist\r\n",
        "mnist"
      ],
      "execution_count": 8,
      "outputs": [
        {
          "output_type": "execute_result",
          "data": {
            "text/plain": [
              "<module 'tensorflow.keras.datasets.mnist' from '/usr/local/lib/python3.6/dist-packages/tensorflow/keras/datasets/mnist/__init__.py'>"
            ]
          },
          "metadata": {
            "tags": []
          },
          "execution_count": 8
        }
      ]
    },
    {
      "cell_type": "code",
      "metadata": {
        "id": "ydMs467N8PpR"
      },
      "source": [
        "(x_train, y_train), (x_test, y_test) = mnist.load_data()\r\n",
        "x_train, x_test = x_train / 255.0, x_test / 255.0"
      ],
      "execution_count": 9,
      "outputs": []
    },
    {
      "cell_type": "code",
      "metadata": {
        "colab": {
          "base_uri": "https://localhost:8080/"
        },
        "id": "eTmqLHTW8626",
        "outputId": "7d28f148-bef5-47a5-f0cb-5f6175d35f5a"
      },
      "source": [
        "x_train"
      ],
      "execution_count": 10,
      "outputs": [
        {
          "output_type": "execute_result",
          "data": {
            "text/plain": [
              "array([[[0., 0., 0., ..., 0., 0., 0.],\n",
              "        [0., 0., 0., ..., 0., 0., 0.],\n",
              "        [0., 0., 0., ..., 0., 0., 0.],\n",
              "        ...,\n",
              "        [0., 0., 0., ..., 0., 0., 0.],\n",
              "        [0., 0., 0., ..., 0., 0., 0.],\n",
              "        [0., 0., 0., ..., 0., 0., 0.]],\n",
              "\n",
              "       [[0., 0., 0., ..., 0., 0., 0.],\n",
              "        [0., 0., 0., ..., 0., 0., 0.],\n",
              "        [0., 0., 0., ..., 0., 0., 0.],\n",
              "        ...,\n",
              "        [0., 0., 0., ..., 0., 0., 0.],\n",
              "        [0., 0., 0., ..., 0., 0., 0.],\n",
              "        [0., 0., 0., ..., 0., 0., 0.]],\n",
              "\n",
              "       [[0., 0., 0., ..., 0., 0., 0.],\n",
              "        [0., 0., 0., ..., 0., 0., 0.],\n",
              "        [0., 0., 0., ..., 0., 0., 0.],\n",
              "        ...,\n",
              "        [0., 0., 0., ..., 0., 0., 0.],\n",
              "        [0., 0., 0., ..., 0., 0., 0.],\n",
              "        [0., 0., 0., ..., 0., 0., 0.]],\n",
              "\n",
              "       ...,\n",
              "\n",
              "       [[0., 0., 0., ..., 0., 0., 0.],\n",
              "        [0., 0., 0., ..., 0., 0., 0.],\n",
              "        [0., 0., 0., ..., 0., 0., 0.],\n",
              "        ...,\n",
              "        [0., 0., 0., ..., 0., 0., 0.],\n",
              "        [0., 0., 0., ..., 0., 0., 0.],\n",
              "        [0., 0., 0., ..., 0., 0., 0.]],\n",
              "\n",
              "       [[0., 0., 0., ..., 0., 0., 0.],\n",
              "        [0., 0., 0., ..., 0., 0., 0.],\n",
              "        [0., 0., 0., ..., 0., 0., 0.],\n",
              "        ...,\n",
              "        [0., 0., 0., ..., 0., 0., 0.],\n",
              "        [0., 0., 0., ..., 0., 0., 0.],\n",
              "        [0., 0., 0., ..., 0., 0., 0.]],\n",
              "\n",
              "       [[0., 0., 0., ..., 0., 0., 0.],\n",
              "        [0., 0., 0., ..., 0., 0., 0.],\n",
              "        [0., 0., 0., ..., 0., 0., 0.],\n",
              "        ...,\n",
              "        [0., 0., 0., ..., 0., 0., 0.],\n",
              "        [0., 0., 0., ..., 0., 0., 0.],\n",
              "        [0., 0., 0., ..., 0., 0., 0.]]])"
            ]
          },
          "metadata": {
            "tags": []
          },
          "execution_count": 10
        }
      ]
    },
    {
      "cell_type": "code",
      "metadata": {
        "id": "Kbaf4CZy9DCD",
        "colab": {
          "base_uri": "https://localhost:8080/"
        },
        "outputId": "2c8aa563-ba52-4f0e-b114-37c02d85dd78"
      },
      "source": [
        "# to build sequantial model by using stacking layer\r\n",
        "\r\n",
        "model = tf.keras.models.Sequential([\r\n",
        "                                    tf.keras.layers.Flatten(input_shape = (28, 28)),\r\n",
        "                                    tf.keras.layers.Dense(128, activation = 'relu'),\r\n",
        "                                    tf.keras.layers.Dropout(0.2),\r\n",
        "                                    tf.keras.layers.Dense(10)\r\n",
        "])\r\n",
        "\r\n",
        "model"
      ],
      "execution_count": 11,
      "outputs": [
        {
          "output_type": "execute_result",
          "data": {
            "text/plain": [
              "<tensorflow.python.keras.engine.sequential.Sequential at 0x7fe906aefba8>"
            ]
          },
          "metadata": {
            "tags": []
          },
          "execution_count": 11
        }
      ]
    },
    {
      "cell_type": "markdown",
      "metadata": {
        "id": "zhGNWiVTLThF"
      },
      "source": [
        "For each example the model returns a vector of \"logits\" or \"log-odds\" scores, one for each class."
      ]
    },
    {
      "cell_type": "code",
      "metadata": {
        "colab": {
          "base_uri": "https://localhost:8080/"
        },
        "id": "w3s5jqt8LHqI",
        "outputId": "05a83869-b232-4de8-b901-15a091cbe38d"
      },
      "source": [
        "predictions = model(x_train[:1]).numpy()\r\n",
        "predictions"
      ],
      "execution_count": 13,
      "outputs": [
        {
          "output_type": "execute_result",
          "data": {
            "text/plain": [
              "array([[ 0.363958  ,  0.58903754,  0.18660556, -0.5261624 ,  0.00587427,\n",
              "         0.14702988,  0.00664912,  0.0222006 , -0.88628006,  0.5527627 ]],\n",
              "      dtype=float32)"
            ]
          },
          "metadata": {
            "tags": []
          },
          "execution_count": 13
        }
      ]
    },
    {
      "cell_type": "code",
      "metadata": {
        "colab": {
          "base_uri": "https://localhost:8080/"
        },
        "id": "1eS-IRvdLX55",
        "outputId": "c139209a-5c48-4428-8a0a-af99332ba452"
      },
      "source": [
        "# tf.nn.softmax > function converts these logits to \"probabilities\" for each class -\r\n",
        "\r\n",
        "tf.nn.softmax(predictions).numpy()"
      ],
      "execution_count": 14,
      "outputs": [
        {
          "output_type": "execute_result",
          "data": {
            "text/plain": [
              "array([[0.12644088, 0.15835738, 0.10589229, 0.05191743, 0.08838402,\n",
              "        0.10178337, 0.08845253, 0.08983885, 0.03621729, 0.15271594]],\n",
              "      dtype=float32)"
            ]
          },
          "metadata": {
            "tags": []
          },
          "execution_count": 14
        }
      ]
    },
    {
      "cell_type": "code",
      "metadata": {
        "colab": {
          "base_uri": "https://localhost:8080/"
        },
        "id": "zAWj3uC7MIQI",
        "outputId": "6789a4ef-e259-4249-d059-b03df9490794"
      },
      "source": [
        "# losses.SparseCategoricalCrossentropy > loss takes a vector of logits and a True index and returns a scalar loss for each example.\r\n",
        "\r\n",
        "loss_func = tf.keras.losses.SparseCategoricalCrossentropy(from_logits = True)\r\n",
        "loss_func"
      ],
      "execution_count": 15,
      "outputs": [
        {
          "output_type": "execute_result",
          "data": {
            "text/plain": [
              "<tensorflow.python.keras.losses.SparseCategoricalCrossentropy at 0x7fe9028f6c88>"
            ]
          },
          "metadata": {
            "tags": []
          },
          "execution_count": 15
        }
      ]
    },
    {
      "cell_type": "markdown",
      "metadata": {
        "id": "1VFC_HbLM97T"
      },
      "source": [
        "This loss is equal to the negative log probability of the true class: It is zero if the model is sure of the correct class.\r\n",
        "\r\n",
        "This untrained model gives probabilities close to random (1/10 for each class), so the initial loss should be close to -tf.log(1/10) ~= 2.3."
      ]
    },
    {
      "cell_type": "code",
      "metadata": {
        "colab": {
          "base_uri": "https://localhost:8080/"
        },
        "id": "jodCFN28Mv5v",
        "outputId": "21aeabcf-2b4a-405f-b74c-76560324a596"
      },
      "source": [
        "loss_func(y_train[: 1], predictions).numpy()"
      ],
      "execution_count": 17,
      "outputs": [
        {
          "output_type": "execute_result",
          "data": {
            "text/plain": [
              "2.2849085"
            ]
          },
          "metadata": {
            "tags": []
          },
          "execution_count": 17
        }
      ]
    },
    {
      "cell_type": "code",
      "metadata": {
        "colab": {
          "base_uri": "https://localhost:8080/"
        },
        "id": "ofjFJ2YgNRMy",
        "outputId": "a8f0440b-c056-4640-8a2f-700a4c97e04d"
      },
      "source": [
        "model.compile(optimizer = 'adam', loss = loss_func, metrics = ['accuracy'])\r\n",
        "\r\n",
        "# Model.fit > adjusts the model parameters to minimize the loss:\r\n",
        "\r\n",
        "model.fit(x_train, y_train, epochs = 5)"
      ],
      "execution_count": 18,
      "outputs": [
        {
          "output_type": "stream",
          "text": [
            "Epoch 1/5\n",
            "1875/1875 [==============================] - 4s 2ms/step - loss: 0.4811 - accuracy: 0.8599\n",
            "Epoch 2/5\n",
            "1875/1875 [==============================] - 4s 2ms/step - loss: 0.1527 - accuracy: 0.9549\n",
            "Epoch 3/5\n",
            "1875/1875 [==============================] - 4s 2ms/step - loss: 0.1097 - accuracy: 0.9677\n",
            "Epoch 4/5\n",
            "1875/1875 [==============================] - 4s 2ms/step - loss: 0.0889 - accuracy: 0.9728\n",
            "Epoch 5/5\n",
            "1875/1875 [==============================] - 3s 2ms/step - loss: 0.0780 - accuracy: 0.9766\n"
          ],
          "name": "stdout"
        },
        {
          "output_type": "execute_result",
          "data": {
            "text/plain": [
              "<tensorflow.python.keras.callbacks.History at 0x7fe90284e198>"
            ]
          },
          "metadata": {
            "tags": []
          },
          "execution_count": 18
        }
      ]
    },
    {
      "cell_type": "code",
      "metadata": {
        "colab": {
          "base_uri": "https://localhost:8080/"
        },
        "id": "CcFchwhKOIvt",
        "outputId": "7c603ad3-4869-4ff3-a37a-e3f940e3bb38"
      },
      "source": [
        "# Model.evaluate >checks the models performance, usually on a \"Validation-set\" or \"Test-set\".\r\n",
        "\r\n",
        "model.evaluate(x_test, y_test, verbose = 2)"
      ],
      "execution_count": 19,
      "outputs": [
        {
          "output_type": "stream",
          "text": [
            "313/313 - 0s - loss: 0.0784 - accuracy: 0.9752\n"
          ],
          "name": "stdout"
        },
        {
          "output_type": "execute_result",
          "data": {
            "text/plain": [
              "[0.07843140512704849, 0.9751999974250793]"
            ]
          },
          "metadata": {
            "tags": []
          },
          "execution_count": 19
        }
      ]
    },
    {
      "cell_type": "code",
      "metadata": {
        "colab": {
          "base_uri": "https://localhost:8080/"
        },
        "id": "aYF5Drm9OnC0",
        "outputId": "4f3f5850-84a9-4139-90d3-04d86f55e193"
      },
      "source": [
        "# If you want your model to return a probability, you can wrap the trained model, and attach the softmax to it:\r\n",
        "\r\n",
        "probability_model = tf.keras.Sequential([\r\n",
        "                                         model,\r\n",
        "                                        tf.keras.layers.Softmax()\r\n",
        "])\r\n",
        "\r\n",
        "# checking model probability\r\n",
        "probability_model(x_test[:])"
      ],
      "execution_count": 22,
      "outputs": [
        {
          "output_type": "execute_result",
          "data": {
            "text/plain": [
              "<tf.Tensor: shape=(10000, 10), dtype=float32, numpy=\n",
              "array([[1.0821308e-07, 1.9974424e-08, 4.1998219e-06, ..., 9.9971575e-01,\n",
              "        4.6399559e-06, 1.0825159e-05],\n",
              "       [2.2435783e-08, 9.4760479e-05, 9.9990189e-01, ..., 2.4570930e-14,\n",
              "        1.6460912e-06, 6.7540781e-14],\n",
              "       [9.9394117e-07, 9.9906844e-01, 1.0301385e-04, ..., 3.7191223e-04,\n",
              "        3.0200253e-04, 1.1576260e-06],\n",
              "       ...,\n",
              "       [1.4203020e-14, 1.4080736e-12, 1.5553733e-12, ..., 4.0728798e-07,\n",
              "        9.7807811e-07, 2.4654219e-05],\n",
              "       [1.6108419e-08, 8.9763805e-09, 4.2332846e-11, ..., 9.7996766e-10,\n",
              "        5.9050551e-05, 2.9140561e-11],\n",
              "       [9.4283692e-10, 1.0255476e-14, 9.6537844e-09, ..., 2.0750424e-12,\n",
              "        6.0767402e-10, 8.3425549e-12]], dtype=float32)>"
            ]
          },
          "metadata": {
            "tags": []
          },
          "execution_count": 22
        }
      ]
    },
    {
      "cell_type": "code",
      "metadata": {
        "id": "tt8b9xWEPX_V"
      },
      "source": [
        ""
      ],
      "execution_count": null,
      "outputs": []
    }
  ]
}