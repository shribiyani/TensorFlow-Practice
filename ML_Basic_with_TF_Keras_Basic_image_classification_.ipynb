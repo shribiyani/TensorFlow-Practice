{
  "nbformat": 4,
  "nbformat_minor": 0,
  "metadata": {
    "colab": {
      "name": "ML Basic with TF Keras - Basic image classification .ipynb",
      "provenance": [],
      "authorship_tag": "ABX9TyO9UMHH4PptbLuzEgh9BdeX",
      "include_colab_link": true
    },
    "kernelspec": {
      "name": "python3",
      "display_name": "Python 3"
    }
  },
  "cells": [
    {
      "cell_type": "markdown",
      "metadata": {
        "id": "view-in-github",
        "colab_type": "text"
      },
      "source": [
        "<a href=\"https://colab.research.google.com/github/shribiyani/TensorFlow-Practice/blob/main/ML_Basic_with_TF_Keras_Basic_image_classification_.ipynb\" target=\"_parent\"><img src=\"https://colab.research.google.com/assets/colab-badge.svg\" alt=\"Open In Colab\"/></a>"
      ]
    },
    {
      "cell_type": "code",
      "metadata": {
        "id": "vocaeRVTQMEc"
      },
      "source": [
        "# Helping libraries\r\n",
        "import numpy as np\r\n",
        "import matplotlib.pyplot as plt\r\n",
        "\r\n",
        "# Tensorflow & Keras\r\n",
        "import tensorflow as tf\r\n",
        "import tensorflow.keras as keras"
      ],
      "execution_count": 15,
      "outputs": []
    },
    {
      "cell_type": "code",
      "metadata": {
        "colab": {
          "base_uri": "https://localhost:8080/"
        },
        "id": "vJ3903YDQ1cD",
        "outputId": "94e0d596-83dc-4b08-a1e0-7f87142dfabc"
      },
      "source": [
        "print(tf.__version__)"
      ],
      "execution_count": 2,
      "outputs": [
        {
          "output_type": "stream",
          "text": [
            "2.4.0\n"
          ],
          "name": "stdout"
        }
      ]
    },
    {
      "cell_type": "markdown",
      "metadata": {
        "id": "vWTqHIdjREps"
      },
      "source": [
        "## Import Fasion MNIST Dataset"
      ]
    },
    {
      "cell_type": "code",
      "metadata": {
        "colab": {
          "base_uri": "https://localhost:8080/"
        },
        "id": "9oQI_fAqQ-tp",
        "outputId": "98a8cfca-ec95-4d89-ce43-659243d1d3da"
      },
      "source": [
        "fashion_mnist = tf.keras.datasets.fashion_mnist\r\n",
        "(train_images, train_labels), (test_images, test_labels) = fashion_mnist.load_data()"
      ],
      "execution_count": 3,
      "outputs": [
        {
          "output_type": "stream",
          "text": [
            "Downloading data from https://storage.googleapis.com/tensorflow/tf-keras-datasets/train-labels-idx1-ubyte.gz\n",
            "32768/29515 [=================================] - 0s 0us/step\n",
            "Downloading data from https://storage.googleapis.com/tensorflow/tf-keras-datasets/train-images-idx3-ubyte.gz\n",
            "26427392/26421880 [==============================] - 0s 0us/step\n",
            "Downloading data from https://storage.googleapis.com/tensorflow/tf-keras-datasets/t10k-labels-idx1-ubyte.gz\n",
            "8192/5148 [===============================================] - 0s 0us/step\n",
            "Downloading data from https://storage.googleapis.com/tensorflow/tf-keras-datasets/t10k-images-idx3-ubyte.gz\n",
            "4423680/4422102 [==============================] - 0s 0us/step\n"
          ],
          "name": "stdout"
        }
      ]
    },
    {
      "cell_type": "code",
      "metadata": {
        "id": "HX8JXvYMSQJw"
      },
      "source": [
        "class_names = ['T-shirt/top', 'Trouser', 'Pullover', 'Dress', 'Coat',\r\n",
        "               'Sandal', 'Shirt', 'Sneaker', 'Bag', 'Ankle boot']"
      ],
      "execution_count": 4,
      "outputs": []
    },
    {
      "cell_type": "markdown",
      "metadata": {
        "id": "daBBpmnCgO03"
      },
      "source": [
        "## Explore the Data"
      ]
    },
    {
      "cell_type": "code",
      "metadata": {
        "colab": {
          "base_uri": "https://localhost:8080/"
        },
        "id": "EOZMHYTsf030",
        "outputId": "b9f7d3cf-22cc-4c04-8c70-ceede25e092d"
      },
      "source": [
        "train_images.shape, len(train_labels)"
      ],
      "execution_count": 11,
      "outputs": [
        {
          "output_type": "execute_result",
          "data": {
            "text/plain": [
              "((60000, 28, 28), 60000)"
            ]
          },
          "metadata": {
            "tags": []
          },
          "execution_count": 11
        }
      ]
    },
    {
      "cell_type": "code",
      "metadata": {
        "colab": {
          "base_uri": "https://localhost:8080/"
        },
        "id": "OFpRSQZCgaf2",
        "outputId": "145c0e2e-d669-41c2-a6e3-0f49a2f2bdf1"
      },
      "source": [
        "train_labels"
      ],
      "execution_count": 8,
      "outputs": [
        {
          "output_type": "execute_result",
          "data": {
            "text/plain": [
              "array([9, 0, 0, ..., 3, 0, 5], dtype=uint8)"
            ]
          },
          "metadata": {
            "tags": []
          },
          "execution_count": 8
        }
      ]
    },
    {
      "cell_type": "code",
      "metadata": {
        "colab": {
          "base_uri": "https://localhost:8080/"
        },
        "id": "xdt_wjBIgiMF",
        "outputId": "ea5305f1-990a-4c36-8401-371dd9d10378"
      },
      "source": [
        "test_images.shape, len(test_labels)"
      ],
      "execution_count": 10,
      "outputs": [
        {
          "output_type": "execute_result",
          "data": {
            "text/plain": [
              "((10000, 28, 28), 10000)"
            ]
          },
          "metadata": {
            "tags": []
          },
          "execution_count": 10
        }
      ]
    },
    {
      "cell_type": "markdown",
      "metadata": {
        "id": "3HYJDUTAhGum"
      },
      "source": [
        "## Preprocess the Data\r\n",
        "\r\n",
        "> The data must be preprocessed before training the network. If you inspect the first image in the training set, you will see that the pixel values fall in the range of 0 to 255:\r\n",
        "\r\n"
      ]
    },
    {
      "cell_type": "code",
      "metadata": {
        "colab": {
          "base_uri": "https://localhost:8080/",
          "height": 265
        },
        "id": "MqSAoL3Zgzv3",
        "outputId": "39986c72-e0d5-4ad8-a083-afbcf0dfcd4f"
      },
      "source": [
        "plt.figure()\r\n",
        "plt.imshow(train_images[0])\r\n",
        "plt.colorbar()\r\n",
        "plt.grid(False)\r\n",
        "plt.show()"
      ],
      "execution_count": 12,
      "outputs": [
        {
          "output_type": "display_data",
          "data": {
            "image/png": "[encoded data removed]",
            "text/plain": [
              "<Figure size 432x288 with 2 Axes>"
            ]
          },
          "metadata": {
            "tags": [],
            "needs_background": "light"
          }
        }
      ]
    },
    {
      "cell_type": "markdown",
      "metadata": {
        "id": "EFcW-ZnXh2oP"
      },
      "source": [
        "> Scale these values to a range of 0 to 1 before feeding them to the neural network model. To do so, divide the values by 255. It's important that the training set and the testing set be preprocessed in the same way:"
      ]
    },
    {
      "cell_type": "code",
      "metadata": {
        "id": "P4_MS3eRhcdx"
      },
      "source": [
        "train_images = train_images / 255.0\r\n",
        "test_images = test_images / 255.0"
      ],
      "execution_count": 13,
      "outputs": []
    },
    {
      "cell_type": "markdown",
      "metadata": {
        "id": "AqU2uyBIiS_j"
      },
      "source": [
        "> To verify that the data is in the correct format and that you're ready to build and train the network, let's display the first 25 images from the training set and display the class name below each image."
      ]
    },
    {
      "cell_type": "code",
      "metadata": {
        "colab": {
          "base_uri": "https://localhost:8080/",
          "height": 589
        },
        "id": "hExfQnxSiRxR",
        "outputId": "62a68067-0cbd-4a2e-ee05-8e1280bd0fa2"
      },
      "source": [
        "plt.figure(figsize = (10, 10))\r\n",
        "for i in range(25):\r\n",
        "  plt.subplot(5, 5, i+1)\r\n",
        "  plt.xticks([])\r\n",
        "  plt.yticks([])\r\n",
        "  plt.grid(False)\r\n",
        "  plt.imshow(train_images[i], cmap = plt.cm.binary)\r\n",
        "  plt.xlabel(class_names[train_labels[i]])\r\n",
        "\r\n",
        "plt.show()"
      ],
      "execution_count": 14,
      "outputs": [
        {
          "output_type": "display_data",
          "data": {
            "image/png": "[encoded data removed]",
            "text/plain": [
              "<Figure size 720x720 with 25 Axes>"
            ]
          },
          "metadata": {
            "tags": []
          }
        }
      ]
    },
    {
      "cell_type": "markdown",
      "metadata": {
        "id": "sJzfgrVDjfoo"
      },
      "source": [
        "## Build the Model\r\n",
        "> Building the neural network requires configuring the layers of the model, then compiling the model.\r\n",
        "\r\n",
        "#### Set-up the layers\r\n",
        "> The basic building block of a neural network is the layer. Layers extract representations from the data fed into them.\r\n",
        "\r\n",
        "> Most of deep learning consists of chaining together simple layers. Most layers, such as tf.keras.layers.Dense, have parameters that are learned during training."
      ]
    },
    {
      "cell_type": "code",
      "metadata": {
        "id": "2MQf-w8HjSrh"
      },
      "source": [
        "model = tf.keras.Sequential([\r\n",
        "                            tf.keras.layers.Flatten(input_shape = (28, 28)),\r\n",
        "                            tf.keras.layers.Dense(128, activation = 'relu'),\r\n",
        "                            tf.keras.layers.Dense(10)\r\n",
        "])"
      ],
      "execution_count": 18,
      "outputs": []
    },
    {
      "cell_type": "markdown",
      "metadata": {
        "id": "L9F5JO79lIPi"
      },
      "source": [
        "+ **tf.keras.layers.Flatten()** = first layer of network.\r\n",
        "      \r\n",
        "      - It transforms the format of the images **from a two-dimensional array** (of 28*28 pixels) to a one-dimensional array \r\n",
        "        (of 28*28 = 784pixels).\r\n",
        "      - It as a unstacking rows of pixels in the image and lining them up. It only reformats the data.\r\n",
        "\r\n",
        "+ **tf.keras.layers.Dense()** = sencond layer of network.\r\n",
        "\r\n",
        "      - densely connected, or fully connected, neural layers.\r\n",
        "      - The first **Dense** layer has 128 nodes (or neurons). The second (and last) layer returns a logits array with length of\r\n",
        "        10.\r\n",
        "      - Each node contains a score that indicates the current image belongs to one of the 10 classes."
      ]
    },
    {
      "cell_type": "markdown",
      "metadata": {
        "id": "fbOVse22ne4s"
      },
      "source": [
        "## Compile the Model\r\n",
        "\r\n",
        "Model needs a few more settings and these are added during the model's compile step:\r\n",
        "\r\n",
        "+ Loss function —This measures how accurate the model is during training. You want to minimize this function to \"steer\" the model in the right direction.\r\n",
        "Optimizer —This is how the model is updated based on the data it sees and its loss function.\r\n",
        "+ Metrics —Used to monitor the training and testing steps. The following example uses accuracy, the fraction of the images that are correctly classified."
      ]
    },
    {
      "cell_type": "code",
      "metadata": {
        "id": "ND5MQ-VWk6Wy"
      },
      "source": [
        "model.compile(optimizer = 'adam',\r\n",
        "              loss = tf.keras.losses.SparseCategoricalCrossentropy(from_logits = True),\r\n",
        "              metrics = ['accuracy'])"
      ],
      "execution_count": 19,
      "outputs": []
    },
    {
      "cell_type": "markdown",
      "metadata": {
        "id": "In61RO3LoRC8"
      },
      "source": [
        "## Train Model\r\n",
        "\r\n",
        "Training the neural network model requires the following steps:\r\n",
        "\r\n",
        "1. Feed the training data to the model. In this example, the training data is in the train_images and train_labels arrays.\r\n",
        "2. The model learns to associate images and labels.\r\n",
        "3. You ask the model to make predictions about a test set—in this example, the test_images array.\r\n",
        "4. . Verify that the predictions match the labels from the test_labels array.\r\n",
        "\r\n",
        "##### Feed the Model\r\n",
        "\r\n",
        " - start training, call the model.fit method—so called because it \"fits\" the model to the training data:"
      ]
    },
    {
      "cell_type": "code",
      "metadata": {
        "colab": {
          "base_uri": "https://localhost:8080/"
        },
        "id": "E5gsgrqaoOw0",
        "outputId": "48b138dc-c14e-428c-a944-8843d4f62d8e"
      },
      "source": [
        "model.fit(train_images, train_labels, epochs = 10)"
      ],
      "execution_count": 20,
      "outputs": [
        {
          "output_type": "stream",
          "text": [
            "Epoch 1/10\n",
            "1875/1875 [==============================] - 4s 2ms/step - loss: 0.6171 - accuracy: 0.7851\n",
            "Epoch 2/10\n",
            "1875/1875 [==============================] - 3s 2ms/step - loss: 0.3793 - accuracy: 0.8621\n",
            "Epoch 3/10\n",
            "1875/1875 [==============================] - 3s 2ms/step - loss: 0.3411 - accuracy: 0.8761\n",
            "Epoch 4/10\n",
            "1875/1875 [==============================] - 3s 2ms/step - loss: 0.3169 - accuracy: 0.8847\n",
            "Epoch 5/10\n",
            "1875/1875 [==============================] - 3s 2ms/step - loss: 0.2892 - accuracy: 0.8947\n",
            "Epoch 6/10\n",
            "1875/1875 [==============================] - 3s 2ms/step - loss: 0.2744 - accuracy: 0.8967\n",
            "Epoch 7/10\n",
            "1875/1875 [==============================] - 3s 2ms/step - loss: 0.2621 - accuracy: 0.9020\n",
            "Epoch 8/10\n",
            "1875/1875 [==============================] - 3s 2ms/step - loss: 0.2508 - accuracy: 0.9064\n",
            "Epoch 9/10\n",
            "1875/1875 [==============================] - 3s 2ms/step - loss: 0.2413 - accuracy: 0.9110\n",
            "Epoch 10/10\n",
            "1875/1875 [==============================] - 3s 2ms/step - loss: 0.2353 - accuracy: 0.9139\n"
          ],
          "name": "stdout"
        },
        {
          "output_type": "execute_result",
          "data": {
            "text/plain": [
              "<tensorflow.python.keras.callbacks.History at 0x7f29b860f6a0>"
            ]
          },
          "metadata": {
            "tags": []
          },
          "execution_count": 20
        }
      ]
    },
    {
      "cell_type": "markdown",
      "metadata": {
        "id": "4opN0483pYGI"
      },
      "source": [
        "##### Evaluate Model"
      ]
    },
    {
      "cell_type": "code",
      "metadata": {
        "colab": {
          "base_uri": "https://localhost:8080/"
        },
        "id": "gSMlo-k-pIo4",
        "outputId": "94f5cbcd-c8b8-4744-9627-d0ec5ff2451d"
      },
      "source": [
        "test_loss, test_acc = model.evaluate(test_images, test_labels, verbose = 2)\r\n",
        "print(\"\\nTest Accuracy : \", test_acc)"
      ],
      "execution_count": 21,
      "outputs": [
        {
          "output_type": "stream",
          "text": [
            "313/313 - 0s - loss: 0.3336 - accuracy: 0.8874\n",
            "\n",
            "Test Accuracy :  0.8873999714851379\n"
          ],
          "name": "stdout"
        }
      ]
    },
    {
      "cell_type": "markdown",
      "metadata": {
        "id": "oqQ3fOcmuHW_"
      },
      "source": [
        "##### Predictions"
      ]
    },
    {
      "cell_type": "code",
      "metadata": {
        "colab": {
          "base_uri": "https://localhost:8080/"
        },
        "id": "Q8UAe66Ipu4z",
        "outputId": "62b126d1-5a0d-4520-873f-5d75f20d737e"
      },
      "source": [
        "probability_model = tf.keras.Sequential([model, tf.keras.layers.Softmax()])\r\n",
        "predictions = probability_model.predict(test_images)\r\n",
        "predictions[0]"
      ],
      "execution_count": 23,
      "outputs": [
        {
          "output_type": "execute_result",
          "data": {
            "text/plain": [
              "array([2.7874605e-06, 2.1919742e-07, 1.5355065e-08, 6.3814025e-09,\n",
              "       5.0878462e-08, 2.3039682e-02, 2.4162209e-06, 1.4950613e-02,\n",
              "       8.7176534e-07, 9.6200329e-01], dtype=float32)"
            ]
          },
          "metadata": {
            "tags": []
          },
          "execution_count": 23
        }
      ]
    },
    {
      "cell_type": "code",
      "metadata": {
        "colab": {
          "base_uri": "https://localhost:8080/"
        },
        "id": "BR5jLEajueR4",
        "outputId": "3804c6e7-d7e7-41fd-fde4-f4382d5b19e1"
      },
      "source": [
        "# let's  see which label has the highest confidence value:\r\n",
        "\r\n",
        "np.argmax(predictions[0])"
      ],
      "execution_count": 24,
      "outputs": [
        {
          "output_type": "execute_result",
          "data": {
            "text/plain": [
              "9"
            ]
          },
          "metadata": {
            "tags": []
          },
          "execution_count": 24
        }
      ]
    },
    {
      "cell_type": "code",
      "metadata": {
        "colab": {
          "base_uri": "https://localhost:8080/"
        },
        "id": "W8C8O1Ppu9Iu",
        "outputId": "1bc0f040-dcd2-4efa-ed80-33ce9ef2502f"
      },
      "source": [
        "# the model is most confident that this image is an ankle boot, or class_names[9]. \r\n",
        "# Examining the test label shows that this classification is correct:\r\n",
        "\r\n",
        "test_labels[0]\r\n"
      ],
      "execution_count": 25,
      "outputs": [
        {
          "output_type": "execute_result",
          "data": {
            "text/plain": [
              "9"
            ]
          },
          "metadata": {
            "tags": []
          },
          "execution_count": 25
        }
      ]
    },
    {
      "cell_type": "code",
      "metadata": {
        "id": "45mCFtDlvVRG"
      },
      "source": [
        "# graph\r\n",
        "\r\n",
        "def plot_image(i, predictions_array, true_label, img):\r\n",
        "  true_label, img = true_label[i], img[i]\r\n",
        "  plt.grid(False)\r\n",
        "  plt.xticks([])\r\n",
        "  plt.yticks([])\r\n",
        "  plt.imshow(img, cmap=plt.cm.binary)\r\n",
        "\r\n",
        "  predicted_label = np.argmax(predictions_array)\r\n",
        "  if predicted_label == true_label:\r\n",
        "    color = 'blue'\r\n",
        "  else:\r\n",
        "    color = 'red'\r\n",
        "\r\n",
        "  plt.xlabel(\"{} {:2.0f}% ({})\".format(class_names[predicted_label],\r\n",
        "                                100*np.max(predictions_array),\r\n",
        "                                class_names[true_label]),\r\n",
        "                                color=color)\r\n",
        "\r\n",
        "def plot_value_array(i, predictions_array, true_label):\r\n",
        "  true_label = true_label[i]\r\n",
        "  plt.grid(False)\r\n",
        "  plt.xticks(range(10))\r\n",
        "  plt.yticks([])\r\n",
        "  thisplot = plt.bar(range(10), predictions_array, color=\"#777777\")\r\n",
        "  plt.ylim([0, 1])\r\n",
        "  predicted_label = np.argmax(predictions_array)\r\n",
        "\r\n",
        "  thisplot[predicted_label].set_color('red')\r\n",
        "  thisplot[true_label].set_color('blue')"
      ],
      "execution_count": 26,
      "outputs": []
    },
    {
      "cell_type": "code",
      "metadata": {
        "colab": {
          "base_uri": "https://localhost:8080/",
          "height": 211
        },
        "id": "A9WRqD4Nve0B",
        "outputId": "461cabc4-2549-4dab-a49d-8ce1e42509f8"
      },
      "source": [
        "# Verify the Predictions\r\n",
        "\r\n",
        "i = 0\r\n",
        "plt.figure(figsize=(6,3))\r\n",
        "plt.subplot(1,2,1)\r\n",
        "plot_image(i, predictions[i], test_labels, test_images)\r\n",
        "plt.subplot(1,2,2)\r\n",
        "plot_value_array(i, predictions[i],  test_labels)\r\n",
        "plt.show()"
      ],
      "execution_count": 27,
      "outputs": [
        {
          "output_type": "display_data",
          "data": {
            "image/png": "[encoded data removed]",
            "text/plain": [
              "<Figure size 432x216 with 2 Axes>"
            ]
          },
          "metadata": {
            "tags": [],
            "needs_background": "light"
          }
        }
      ]
    },
    {
      "cell_type": "code",
      "metadata": {
        "colab": {
          "base_uri": "https://localhost:8080/",
          "height": 211
        },
        "id": "9ZmevKEQvwo8",
        "outputId": "3b0c367c-20c4-4227-cebc-ac34eacd0c54"
      },
      "source": [
        "i = 12\r\n",
        "plt.figure(figsize=(6,3))\r\n",
        "plt.subplot(1,2,1)\r\n",
        "plot_image(i, predictions[i], test_labels, test_images)\r\n",
        "plt.subplot(1,2,2)\r\n",
        "plot_value_array(i, predictions[i],  test_labels)\r\n",
        "plt.show()"
      ],
      "execution_count": 28,
      "outputs": [
        {
          "output_type": "display_data",
          "data": {
            "image/png": "[encoded data removed]",
            "text/plain": [
              "<Figure size 432x216 with 2 Axes>"
            ]
          },
          "metadata": {
            "tags": [],
            "needs_background": "light"
          }
        }
      ]
    },
    {
      "cell_type": "code",
      "metadata": {
        "colab": {
          "base_uri": "https://localhost:8080/",
          "height": 729
        },
        "id": "iZJSw0rjv3x_",
        "outputId": "3ff9aed4-a4c8-4443-a61b-ed2539c4368e"
      },
      "source": [
        "# Plot the first X test images, their predicted labels, and the true labels.\r\n",
        "# Color correct predictions in blue and incorrect predictions in red.\r\n",
        "num_rows = 5\r\n",
        "num_cols = 3\r\n",
        "num_images = num_rows*num_cols\r\n",
        "plt.figure(figsize=(2*2*num_cols, 2*num_rows))\r\n",
        "for i in range(num_images):\r\n",
        "  plt.subplot(num_rows, 2*num_cols, 2*i+1)\r\n",
        "  plot_image(i, predictions[i], test_labels, test_images)\r\n",
        "  plt.subplot(num_rows, 2*num_cols, 2*i+2)\r\n",
        "  plot_value_array(i, predictions[i], test_labels)\r\n",
        "plt.tight_layout()\r\n",
        "plt.show()"
      ],
      "execution_count": 29,
      "outputs": [
        {
          "output_type": "display_data",
          "data": {
            "image/png": "[encoded data removed]",
            "text/plain": [
              "<Figure size 864x720 with 30 Axes>"
            ]
          },
          "metadata": {
            "tags": [],
            "needs_background": "light"
          }
        }
      ]
    },
    {
      "cell_type": "markdown",
      "metadata": {
        "id": "H8Wev5zVwWZ3"
      },
      "source": [
        "#### Use the trained model\r\n",
        "\r\n",
        "Use the trained model to make a prediction about a single image"
      ]
    },
    {
      "cell_type": "code",
      "metadata": {
        "colab": {
          "base_uri": "https://localhost:8080/"
        },
        "id": "sMxILNHqwEe1",
        "outputId": "04ae8264-e068-4b6a-98bf-5ca5f95ef388"
      },
      "source": [
        "# Grab an image from the test dataset.\r\n",
        "img = test_images[1]\r\n",
        "\r\n",
        "print(img.shape)"
      ],
      "execution_count": 30,
      "outputs": [
        {
          "output_type": "stream",
          "text": [
            "(28, 28)\n"
          ],
          "name": "stdout"
        }
      ]
    },
    {
      "cell_type": "markdown",
      "metadata": {
        "id": "P3uwQ-Fxxwzm"
      },
      "source": [
        "**tf.keras** models are optimized to make predictions on a batch, or collection, of examples at once. Accordingly, even though you're using a single image, you need to add it to a list:"
      ]
    },
    {
      "cell_type": "code",
      "metadata": {
        "colab": {
          "base_uri": "https://localhost:8080/"
        },
        "id": "G7W7R_EUwX0b",
        "outputId": "74840ded-01ed-45e4-84fb-4394ba734752"
      },
      "source": [
        "# Add the image to a batch where it's the only member.\r\n",
        "img = (np.expand_dims(img,0))\r\n",
        "\r\n",
        "print(img.shape)"
      ],
      "execution_count": 34,
      "outputs": [
        {
          "output_type": "stream",
          "text": [
            "(1, 1, 28, 28)\n"
          ],
          "name": "stdout"
        }
      ]
    },
    {
      "cell_type": "code",
      "metadata": {
        "colab": {
          "base_uri": "https://localhost:8080/"
        },
        "id": "6o9lFudpwjx4",
        "outputId": "e7ce71e6-8cf1-4df8-dcf4-6225337fefa9"
      },
      "source": [
        "# Now predict the correct label for this image:\r\n",
        "\r\n",
        "predictions_single = probability_model.predict(img)\r\n",
        "\r\n",
        "print(predictions_single)"
      ],
      "execution_count": 35,
      "outputs": [
        {
          "output_type": "stream",
          "text": [
            "WARNING:tensorflow:Model was constructed with shape (None, 28, 28) for input KerasTensor(type_spec=TensorSpec(shape=(None, 28, 28), dtype=tf.float32, name='sequential_input'), name='sequential_input', description=\"created by layer 'sequential_input'\"), but it was called on an input with incompatible shape (None, 1, 28, 28).\n",
            "WARNING:tensorflow:Model was constructed with shape (None, 28, 28) for input KerasTensor(type_spec=TensorSpec(shape=(None, 28, 28), dtype=tf.float32, name='flatten_input'), name='flatten_input', description=\"created by layer 'flatten_input'\"), but it was called on an input with incompatible shape (None, 1, 28, 28).\n",
            "[[8.8519764e-06 4.0252403e-15 9.9985003e-01 4.9461520e-13 5.4428907e-05\n",
            "  1.4248000e-11 8.6595843e-05 5.6249759e-13 1.9566895e-11 4.7757687e-16]]\n"
          ],
          "name": "stdout"
        }
      ]
    },
    {
      "cell_type": "code",
      "metadata": {
        "colab": {
          "base_uri": "https://localhost:8080/",
          "height": 300
        },
        "id": "2ZHKtUhCwn5J",
        "outputId": "2dfa9c11-c006-4dbe-fa45-ac17dfc662e2"
      },
      "source": [
        "plot_value_array(1, predictions_single[0], test_labels)\r\n",
        "_ = plt.xticks(range(10), class_names, rotation=45)"
      ],
      "execution_count": 33,
      "outputs": [
        {
          "output_type": "display_data",
          "data": {
            "image/png": "[encoded data removed]",
            "text/plain": [
              "<Figure size 432x288 with 1 Axes>"
            ]
          },
          "metadata": {
            "tags": [],
            "needs_background": "light"
          }
        }
      ]
    },
    {
      "cell_type": "markdown",
      "metadata": {
        "id": "yqZxofZSyM3g"
      },
      "source": [
        "**tf.keras.Model.predict** returns a list of lists—one list for each image in the batch of data. Grab the predictions for our (only) image in the batch:"
      ]
    },
    {
      "cell_type": "code",
      "metadata": {
        "colab": {
          "base_uri": "https://localhost:8080/"
        },
        "id": "owJWTHQxwr41",
        "outputId": "f3206cb0-2e9d-4f1c-c4b8-3758e62a1080"
      },
      "source": [
        "np.argmax(predictions_single[0])"
      ],
      "execution_count": 36,
      "outputs": [
        {
          "output_type": "execute_result",
          "data": {
            "text/plain": [
              "2"
            ]
          },
          "metadata": {
            "tags": []
          },
          "execution_count": 36
        }
      ]
    },
    {
      "cell_type": "code",
      "metadata": {
        "id": "OTXafrF7yUer"
      },
      "source": [
        ""
      ],
      "execution_count": null,
      "outputs": []
    }
  ]
}